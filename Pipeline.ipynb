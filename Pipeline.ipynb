{
 "cells": [
  {
   "cell_type": "markdown",
   "metadata": {},
   "source": [
    "# Blue Stragglers and Open Cluster Pipeline"
   ]
  },
  {
   "cell_type": "code",
   "execution_count": 6,
   "metadata": {},
   "outputs": [],
   "source": [
    "# The goal of this pipeline is to run and convert existing data of blue straggler stars (BSS) \n",
    "# within open cluster (OC) galaxies and the OC themselves into a useable format and run analysis\n",
    "# on the data sets in order to determine if there is a statistical significant relationship between \n",
    "# OC conditions and the frequnecy of BSSs\n",
    "\n",
    "# necessaary imports for the pipeline\n",
    "import pandas as pd\n",
    "import numpy as np\n",
    "import matplotlib.pyplot as plt\n",
    "\n",
    "# reading in the data\n",
    "data = pd.read_csv('clusters.dat', sep=' ', header=None, skipinitialspace=True)\n",
    "data.columns=['Cluster', 'RAdeg', 'DEdeg', 'Log(Age)', 'E(B-V)','pmRA', 'pmDE', 'plx','Dist', 'NBSS', 'NYSS', 'Notes']\n",
    "\n",
    "# i am not sure what this does\n",
    "(data.size / 12) - 12\n",
    "# percent with less than 20 blue stragglers //i don't think these are ever used\n",
    "p_less20 = (396/408) * 100  \n",
    "\n",
    "# percent with less than 5 blue stragglers\n",
    "p_less5 = ((408 - 47) / 408) * 100\n",
    "\n",
    "mean = data['NBSS'].mean()\n",
    "std = data['NBSS'].std()\n",
    "\n",
    "hi = data[data['NBSS'] <= (mean * (3 * std))]\n",
    "\n",
    "mean_hi = hi['NBSS'].mean()\n",
    "mean_std = hi['NBSS'].std()\n",
    "\n",
    "all_cluster = {'Mean': [mean], \n",
    "              'Standard Deviation': [std], \n",
    "              'Mean without outliers': [mean_hi], \n",
    "              'Standard Devation without outliers': [mean_std]}\n",
    "\n",
    "# Comment in to print out 'data'\n",
    "# pd.set_option('display.max_rows', None)\n",
    "# pd.set_option('display.max_columns', None)\n",
    "# pd.set_option('display.width', None)\n",
    "# pd.set_option('display.max_colwidth', None)\n",
    "# data\n"
   ]
  },
  {
   "cell_type": "code",
   "execution_count": 7,
   "metadata": {},
   "outputs": [
    {
     "data": {
      "image/png": "[encoded data removed]",
      "text/plain": [
       "<Figure size 432x288 with 1 Axes>"
      ]
     },
     "metadata": {
      "needs_background": "light"
     },
     "output_type": "display_data"
    }
   ],
   "source": [
    "num_bss = data['NBSS']\n",
    "\n",
    "plt.hist(num_bss, bins=40, density=False, facecolor='b', alpha=0.60)\n",
    "plt.xlabel('Number of blue stragglers')\n",
    "plt.ylabel('Frequency')\n",
    "plt.title('Histogram of Number of Blue Stragglers in Open Clusters')\n",
    "plt.grid(True)\n",
    "plt.show()"
   ]
  },
  {
   "cell_type": "code",
   "execution_count": 8,
   "metadata": {},
   "outputs": [],
   "source": [
    "# mean and standard deviation of all \n",
    "mean = data['NBSS'].mean()\n",
    "std = data['NBSS'].std()\n",
    "\n",
    "hi = data[data['NBSS'] <= (mean * (3 * std))]\n",
    "# mean without outliers\n",
    "mean_hi = hi['NBSS'].mean()\n"
   ]
  },
  {
   "cell_type": "code",
   "execution_count": 9,
   "metadata": {},
   "outputs": [
    {
     "data": {
      "image/png": "[encoded data removed]",
      "text/plain": [
       "<Figure size 432x288 with 1 Axes>"
      ]
     },
     "metadata": {
      "needs_background": "light"
     },
     "output_type": "display_data"
    }
   ],
   "source": [
    "age = data['Log(Age)']\n",
    "num_bss = data['NBSS']\n",
    "\n",
    "# creating a basic scatterplot\n",
    "fig = plt.figure()\n",
    "plt.scatter(age, num_bss, c=\"blue\", alpha=0.9, marker='*',label=\"Amount of Stragglers\")\n",
    "plt.xlabel(\"Log(Age)\")\n",
    "plt.ylabel(\"Number of Blue Stragglers\")\n",
    "plt.legend(loc='upper left')\n",
    "plt.title('Number of Blue Stragglers by Age')\n",
    "plt.show()"
   ]
  },
  {
   "cell_type": "code",
   "execution_count": 10,
   "metadata": {},
   "outputs": [
    {
     "data": {
      "text/html": [
       "<div>\n",
       "<style scoped>\n",
       "    .dataframe tbody tr th:only-of-type {\n",
       "        vertical-align: middle;\n",
       "    }\n",
       "\n",
       "    .dataframe tbody tr th {\n",
       "        vertical-align: top;\n",
       "    }\n",
       "\n",
       "    .dataframe thead th {\n",
       "        text-align: right;\n",
       "    }\n",
       "</style>\n",
       "<table border=\"1\" class=\"dataframe\">\n",
       "  <thead>\n",
       "    <tr style=\"text-align: right;\">\n",
       "      <th></th>\n",
       "      <th>Cluster</th>\n",
       "      <th>RAdeg</th>\n",
       "      <th>DEdeg</th>\n",
       "      <th>Log(Age)</th>\n",
       "      <th>E(B-V)</th>\n",
       "      <th>pmRA</th>\n",
       "      <th>pmDE</th>\n",
       "      <th>plx</th>\n",
       "      <th>Dist</th>\n",
       "      <th>NBSS</th>\n",
       "      <th>NYSS</th>\n",
       "      <th>Notes</th>\n",
       "    </tr>\n",
       "  </thead>\n",
       "  <tbody>\n",
       "    <tr>\n",
       "      <th>0</th>\n",
       "      <td>Berkeley_17</td>\n",
       "      <td>80.130</td>\n",
       "      <td>30.574</td>\n",
       "      <td>10.00</td>\n",
       "      <td>0.580</td>\n",
       "      <td>2.618</td>\n",
       "      <td>-0.350</td>\n",
       "      <td>0.281</td>\n",
       "      <td>3229.7</td>\n",
       "      <td>20</td>\n",
       "      <td>0</td>\n",
       "      <td>NaN</td>\n",
       "    </tr>\n",
       "    <tr>\n",
       "      <th>1</th>\n",
       "      <td>Collinder_261</td>\n",
       "      <td>189.519</td>\n",
       "      <td>-68.377</td>\n",
       "      <td>9.95</td>\n",
       "      <td>0.270</td>\n",
       "      <td>-6.351</td>\n",
       "      <td>-2.705</td>\n",
       "      <td>0.315</td>\n",
       "      <td>2903.7</td>\n",
       "      <td>53</td>\n",
       "      <td>3</td>\n",
       "      <td>*</td>\n",
       "    </tr>\n",
       "    <tr>\n",
       "      <th>2</th>\n",
       "      <td>NGC_6791</td>\n",
       "      <td>290.221</td>\n",
       "      <td>37.778</td>\n",
       "      <td>9.92</td>\n",
       "      <td>0.160</td>\n",
       "      <td>-0.421</td>\n",
       "      <td>-2.269</td>\n",
       "      <td>0.192</td>\n",
       "      <td>4530.8</td>\n",
       "      <td>48</td>\n",
       "      <td>0</td>\n",
       "      <td>*</td>\n",
       "    </tr>\n",
       "    <tr>\n",
       "      <th>3</th>\n",
       "      <td>Berkeley_39</td>\n",
       "      <td>116.702</td>\n",
       "      <td>-4.665</td>\n",
       "      <td>9.90</td>\n",
       "      <td>0.120</td>\n",
       "      <td>-1.730</td>\n",
       "      <td>-1.645</td>\n",
       "      <td>0.201</td>\n",
       "      <td>4357.3</td>\n",
       "      <td>18</td>\n",
       "      <td>2</td>\n",
       "      <td>*</td>\n",
       "    </tr>\n",
       "    <tr>\n",
       "      <th>4</th>\n",
       "      <td>NGC_188</td>\n",
       "      <td>11.798</td>\n",
       "      <td>85.244</td>\n",
       "      <td>9.88</td>\n",
       "      <td>0.036</td>\n",
       "      <td>-2.307</td>\n",
       "      <td>-0.960</td>\n",
       "      <td>0.507</td>\n",
       "      <td>1864.3</td>\n",
       "      <td>22</td>\n",
       "      <td>0</td>\n",
       "      <td>NaN</td>\n",
       "    </tr>\n",
       "    <tr>\n",
       "      <th>...</th>\n",
       "      <td>...</td>\n",
       "      <td>...</td>\n",
       "      <td>...</td>\n",
       "      <td>...</td>\n",
       "      <td>...</td>\n",
       "      <td>...</td>\n",
       "      <td>...</td>\n",
       "      <td>...</td>\n",
       "      <td>...</td>\n",
       "      <td>...</td>\n",
       "      <td>...</td>\n",
       "      <td>...</td>\n",
       "    </tr>\n",
       "    <tr>\n",
       "      <th>403</th>\n",
       "      <td>NGC_6451</td>\n",
       "      <td>267.675</td>\n",
       "      <td>-30.206</td>\n",
       "      <td>8.13</td>\n",
       "      <td>0.670</td>\n",
       "      <td>-0.105</td>\n",
       "      <td>-1.335</td>\n",
       "      <td>0.304</td>\n",
       "      <td>3002.0</td>\n",
       "      <td>0</td>\n",
       "      <td>0</td>\n",
       "      <td>NaN</td>\n",
       "    </tr>\n",
       "    <tr>\n",
       "      <th>404</th>\n",
       "      <td>NGC_6664</td>\n",
       "      <td>279.125</td>\n",
       "      <td>-8.194</td>\n",
       "      <td>7.16</td>\n",
       "      <td>0.700</td>\n",
       "      <td>-0.089</td>\n",
       "      <td>-2.561</td>\n",
       "      <td>0.468</td>\n",
       "      <td>2011.8</td>\n",
       "      <td>0</td>\n",
       "      <td>0</td>\n",
       "      <td>NaN</td>\n",
       "    </tr>\n",
       "    <tr>\n",
       "      <th>405</th>\n",
       "      <td>NGC_7086</td>\n",
       "      <td>322.624</td>\n",
       "      <td>51.593</td>\n",
       "      <td>8.14</td>\n",
       "      <td>0.800</td>\n",
       "      <td>-1.656</td>\n",
       "      <td>-1.629</td>\n",
       "      <td>0.590</td>\n",
       "      <td>1616.5</td>\n",
       "      <td>0</td>\n",
       "      <td>0</td>\n",
       "      <td>NaN</td>\n",
       "    </tr>\n",
       "    <tr>\n",
       "      <th>406</th>\n",
       "      <td>NGC_2645</td>\n",
       "      <td>129.774</td>\n",
       "      <td>-46.235</td>\n",
       "      <td>7.42</td>\n",
       "      <td>0.410</td>\n",
       "      <td>-5.887</td>\n",
       "      <td>5.071</td>\n",
       "      <td>0.523</td>\n",
       "      <td>1812.5</td>\n",
       "      <td>0</td>\n",
       "      <td>0</td>\n",
       "      <td>*</td>\n",
       "    </tr>\n",
       "    <tr>\n",
       "      <th>407</th>\n",
       "      <td>IC_1396</td>\n",
       "      <td>324.745</td>\n",
       "      <td>57.514</td>\n",
       "      <td>7.05</td>\n",
       "      <td>0.470</td>\n",
       "      <td>-2.355</td>\n",
       "      <td>-4.495</td>\n",
       "      <td>1.066</td>\n",
       "      <td>913.7</td>\n",
       "      <td>0</td>\n",
       "      <td>0</td>\n",
       "      <td>NaN</td>\n",
       "    </tr>\n",
       "  </tbody>\n",
       "</table>\n",
       "<p>408 rows × 12 columns</p>\n",
       "</div>"
      ],
      "text/plain": [
       "           Cluster    RAdeg   DEdeg  Log(Age)  E(B-V)   pmRA   pmDE    plx  \\\n",
       "0      Berkeley_17   80.130  30.574     10.00   0.580  2.618 -0.350  0.281   \n",
       "1    Collinder_261  189.519 -68.377      9.95   0.270 -6.351 -2.705  0.315   \n",
       "2         NGC_6791  290.221  37.778      9.92   0.160 -0.421 -2.269  0.192   \n",
       "3      Berkeley_39  116.702  -4.665      9.90   0.120 -1.730 -1.645  0.201   \n",
       "4          NGC_188   11.798  85.244      9.88   0.036 -2.307 -0.960  0.507   \n",
       "..             ...      ...     ...       ...     ...    ...    ...    ...   \n",
       "403       NGC_6451  267.675 -30.206      8.13   0.670 -0.105 -1.335  0.304   \n",
       "404       NGC_6664  279.125  -8.194      7.16   0.700 -0.089 -2.561  0.468   \n",
       "405       NGC_7086  322.624  51.593      8.14   0.800 -1.656 -1.629  0.590   \n",
       "406       NGC_2645  129.774 -46.235      7.42   0.410 -5.887  5.071  0.523   \n",
       "407        IC_1396  324.745  57.514      7.05   0.470 -2.355 -4.495  1.066   \n",
       "\n",
       "       Dist  NBSS  NYSS Notes  \n",
       "0    3229.7    20     0   NaN  \n",
       "1    2903.7    53     3     *  \n",
       "2    4530.8    48     0     *  \n",
       "3    4357.3    18     2     *  \n",
       "4    1864.3    22     0   NaN  \n",
       "..      ...   ...   ...   ...  \n",
       "403  3002.0     0     0   NaN  \n",
       "404  2011.8     0     0   NaN  \n",
       "405  1616.5     0     0   NaN  \n",
       "406  1812.5     0     0     *  \n",
       "407   913.7     0     0   NaN  \n",
       "\n",
       "[408 rows x 12 columns]"
      ]
     },
     "execution_count": 10,
     "metadata": {},
     "output_type": "execute_result"
    }
   ],
   "source": [
    "data"
   ]
  },
  {
   "cell_type": "code",
   "execution_count": 11,
   "metadata": {},
   "outputs": [
    {
     "data": {
      "text/plain": [
       "8.07397058823529"
      ]
     },
     "execution_count": 11,
     "metadata": {},
     "output_type": "execute_result"
    }
   ],
   "source": [
    "age.mean()"
   ]
  },
  {
   "cell_type": "code",
   "execution_count": 12,
   "metadata": {},
   "outputs": [
    {
     "data": {
      "image/png": "[encoded data removed]",
      "text/plain": [
       "<Figure size 432x288 with 1 Axes>"
      ]
     },
     "metadata": {
      "needs_background": "light"
     },
     "output_type": "display_data"
    }
   ],
   "source": [
    "import scipy as scipy\n",
    "\n",
    "# dropping clusters that have 0 blue stragglers \n",
    "drop_val = data[(data['NBSS'] == 0)]\n",
    "drop_val\n",
    "drop_idx = drop_val.index\n",
    "data = data.drop(drop_idx)\n",
    "\n",
    "# creating numpy array of values in our datafram \n",
    "age = data['Log(Age)'].values\n",
    "num_bss = data['NBSS'].values\n",
    "\n",
    "# finding the log version of values in numpy arra\n",
    "log_x_data = np.log(age)\n",
    "log_y_data = np.log(num_bss)\n",
    "\n",
    "# finding curve fir with polyfit\n",
    "curve_fit = np.polyfit(age, log_y_data, 1)\n",
    "#print(curve_fit)\n",
    "\n",
    "# displaying exponential curve to scatter plot of log(Age) and NBSS\n",
    "y = np.exp(curve_fit[1]) * np.exp(curve_fit[0]*age)\n",
    "plt.plot(age, num_bss, \"*\")\n",
    "plt.plot(age, y)\n",
    "plt.xlabel(\"Log(Age)\")\n",
    "plt.ylabel(\"Number of Blue Stragglers\")\n",
    "plt.title('Number of Blue Stragglers by Age with 0s removed')\n",
    "plt.show()\n",
    "\n",
    "curve_fit\n",
    "\n",
    "mean = data['NBSS'].mean()\n",
    "stan_dev = data['NBSS'].std()\n",
    "hi = data[data['NBSS'] <= (mean * (3 * std))]\n",
    "mean_hi = hi['NBSS'].mean()\n",
    "mean_std = hi['NBSS'].std()\n",
    "\n",
    "nbs_cluster = {'Mean': [mean], \n",
    "              'Standard Deviation': [std], \n",
    "              'Mean without outliers': [mean_hi], \n",
    "              'Standard Devation without outliers': [mean_std]}\n",
    "\n"
   ]
  },
  {
   "cell_type": "code",
   "execution_count": 13,
   "metadata": {},
   "outputs": [
    {
     "data": {
      "text/plain": [
       "0.31811403678714734"
      ]
     },
     "execution_count": 13,
     "metadata": {},
     "output_type": "execute_result"
    }
   ],
   "source": [
    "import scipy.spatial\n",
    "scipy.spatial.distance.correlation(age, log_y_data)"
   ]
  },
  {
   "cell_type": "code",
   "execution_count": 14,
   "metadata": {},
   "outputs": [
    {
     "data": {
      "text/html": [
       "<div>\n",
       "<style scoped>\n",
       "    .dataframe tbody tr th:only-of-type {\n",
       "        vertical-align: middle;\n",
       "    }\n",
       "\n",
       "    .dataframe tbody tr th {\n",
       "        vertical-align: top;\n",
       "    }\n",
       "\n",
       "    .dataframe thead th {\n",
       "        text-align: right;\n",
       "    }\n",
       "</style>\n",
       "<table border=\"1\" class=\"dataframe\">\n",
       "  <thead>\n",
       "    <tr style=\"text-align: right;\">\n",
       "      <th></th>\n",
       "      <th>Cluster</th>\n",
       "      <th>Log(Age)</th>\n",
       "      <th>NBSS</th>\n",
       "    </tr>\n",
       "  </thead>\n",
       "  <tbody>\n",
       "    <tr>\n",
       "      <th>0</th>\n",
       "      <td>Berkeley_17</td>\n",
       "      <td>10.00</td>\n",
       "      <td>20</td>\n",
       "    </tr>\n",
       "    <tr>\n",
       "      <th>1</th>\n",
       "      <td>Collinder_261</td>\n",
       "      <td>9.95</td>\n",
       "      <td>53</td>\n",
       "    </tr>\n",
       "    <tr>\n",
       "      <th>2</th>\n",
       "      <td>NGC_6791</td>\n",
       "      <td>9.92</td>\n",
       "      <td>48</td>\n",
       "    </tr>\n",
       "    <tr>\n",
       "      <th>3</th>\n",
       "      <td>Berkeley_39</td>\n",
       "      <td>9.90</td>\n",
       "      <td>18</td>\n",
       "    </tr>\n",
       "    <tr>\n",
       "      <th>4</th>\n",
       "      <td>NGC_188</td>\n",
       "      <td>9.88</td>\n",
       "      <td>22</td>\n",
       "    </tr>\n",
       "    <tr>\n",
       "      <th>...</th>\n",
       "      <td>...</td>\n",
       "      <td>...</td>\n",
       "      <td>...</td>\n",
       "    </tr>\n",
       "    <tr>\n",
       "      <th>121</th>\n",
       "      <td>NGC_6025</td>\n",
       "      <td>7.88</td>\n",
       "      <td>1</td>\n",
       "    </tr>\n",
       "    <tr>\n",
       "      <th>122</th>\n",
       "      <td>NGC_2422</td>\n",
       "      <td>7.86</td>\n",
       "      <td>1</td>\n",
       "    </tr>\n",
       "    <tr>\n",
       "      <th>123</th>\n",
       "      <td>Waterloo_7</td>\n",
       "      <td>7.76</td>\n",
       "      <td>1</td>\n",
       "    </tr>\n",
       "    <tr>\n",
       "      <th>124</th>\n",
       "      <td>NGC_7790</td>\n",
       "      <td>7.74</td>\n",
       "      <td>1</td>\n",
       "    </tr>\n",
       "    <tr>\n",
       "      <th>125</th>\n",
       "      <td>IC_361</td>\n",
       "      <td>7.71</td>\n",
       "      <td>2</td>\n",
       "    </tr>\n",
       "  </tbody>\n",
       "</table>\n",
       "<p>111 rows × 3 columns</p>\n",
       "</div>"
      ],
      "text/plain": [
       "           Cluster  Log(Age)  NBSS\n",
       "0      Berkeley_17     10.00    20\n",
       "1    Collinder_261      9.95    53\n",
       "2         NGC_6791      9.92    48\n",
       "3      Berkeley_39      9.90    18\n",
       "4          NGC_188      9.88    22\n",
       "..             ...       ...   ...\n",
       "121       NGC_6025      7.88     1\n",
       "122       NGC_2422      7.86     1\n",
       "123     Waterloo_7      7.76     1\n",
       "124       NGC_7790      7.74     1\n",
       "125         IC_361      7.71     2\n",
       "\n",
       "[111 rows x 3 columns]"
      ]
     },
     "execution_count": 14,
     "metadata": {},
     "output_type": "execute_result"
    }
   ],
   "source": [
    "data[['Cluster', 'Log(Age)', 'NBSS']]"
   ]
  },
  {
   "cell_type": "code",
   "execution_count": 15,
   "metadata": {},
   "outputs": [],
   "source": [
    "all_dataDF = pd.DataFrame(all_cluster)\n",
    "nbs_dataDF = pd.DataFrame(nbs_cluster)\n",
    "all_dataDF.index = ['All Clusters']\n",
    "frames = [all_dataDF, nbs_dataDF]\n",
    "nbs_dataDF.index = ['Contains Stragglers']\n",
    "pd.concat(frames).to_csv('Statistic_bs.csv')\n"
   ]
  },
  {
   "cell_type": "code",
   "execution_count": 16,
   "metadata": {},
   "outputs": [
    {
     "data": {
      "image/png": "[encoded data removed]",
      "text/plain": [
       "<Figure size 432x288 with 1 Axes>"
      ]
     },
     "metadata": {
      "needs_background": "light"
     },
     "output_type": "display_data"
    }
   ],
   "source": [
    "plt.hist(age, bins=50, density=False, facecolor='b', alpha=0.60)\n",
    "plt.xlabel('Log(age)')\n",
    "plt.ylabel('Frequency')\n",
    "plt.title('Histogram of Age in Open Clusters')\n",
    "plt.grid(True)\n",
    "plt.show()"
   ]
  },
  {
   "cell_type": "code",
   "execution_count": 17,
   "metadata": {},
   "outputs": [
    {
     "data": {
      "text/plain": [
       "8.943873873873876"
      ]
     },
     "execution_count": 17,
     "metadata": {},
     "output_type": "execute_result"
    }
   ],
   "source": [
    "age.mean()"
   ]
  },
  {
   "cell_type": "code",
   "execution_count": 18,
   "metadata": {},
   "outputs": [
    {
     "data": {
      "image/png": "[encoded data removed]",
      "text/plain": [
       "<Figure size 432x288 with 1 Axes>"
      ]
     },
     "metadata": {
      "needs_background": "light"
     },
     "output_type": "display_data"
    }
   ],
   "source": [
    "num_bss = data['NBSS']\n",
    "\n",
    "plt.hist(num_bss, bins=50, density=False, facecolor='b', alpha=0.60)\n",
    "plt.xlabel('Number of blue stragglers')\n",
    "plt.ylabel('Frequency')\n",
    "plt.title('Histogram of Number of Blue Stragglers in Open Clusters that contain BSs')\n",
    "plt.grid(True)\n",
    "plt.show()\n",
    "\n",
    "\n",
    "\n",
    "\n"
   ]
  },
  {
   "cell_type": "code",
   "execution_count": 19,
   "metadata": {},
   "outputs": [],
   "source": [
    "mean = data['NBSS'].mean()\n",
    "std = data['NBSS'].std()\n",
    "\n",
    "wo_outliers = data[data['NBSS'] <= (mean * (3 * std))]\n",
    "# mean without outliers\n",
    "mean_wo = wo_outliers['NBSS'].mean()\n",
    "\n",
    "#mean_wo\n"
   ]
  },
  {
   "cell_type": "code",
   "execution_count": 20,
   "metadata": {},
   "outputs": [],
   "source": [
    "# MAKE TABLE THAT IS MEAN STD AND PERCENT LESS THAN 5 PERCENT LESS THAN 20 OF BOTH SET WITH BS AND WITHOUT"
   ]
  },
  {
   "cell_type": "code",
   "execution_count": 21,
   "metadata": {},
   "outputs": [
    {
     "name": "stdout",
     "output_type": "stream",
     "text": [
      "correlation value r between number of blue stragglers and log(Age):\n",
      "0.6818859632128531\n"
     ]
    }
   ],
   "source": [
    "# put log(numbss) on y and age on x \n",
    "# use .corr to find correlation\n",
    "age = data['Log(Age)'].values \n",
    "num_bss = data['NBSS'].values\n",
    "y_val = np.log(num_bss)\n",
    "\n",
    "y = pd.Series(y_val)\n",
    "x = pd.Series(age)\n",
    "print('correlation value r between number of blue stragglers and log(Age):')\n",
    "print(x.corr(y))"
   ]
  },
  {
   "cell_type": "code",
   "execution_count": 22,
   "metadata": {},
   "outputs": [],
   "source": [
    "# # includes only those with blue stragglers\n",
    "# names = data['Cluster']\n",
    "# names\n",
    "# x = list(names)\n",
    "# name_dict = {'names': x}\n",
    "\n",
    "# df = pd.DataFrame(name_dict)\n",
    "# df.to_csv('BS_clusters2021.csv')"
   ]
  },
  {
   "cell_type": "code",
   "execution_count": 23,
   "metadata": {},
   "outputs": [],
   "source": [
    "# FIND MASS AND METALLICITY OF CLLUSTERS \n",
    "# find velocity of cluster and compare to number of blue stragglers \n",
    "# x = velocity of bs and y can be metallicity of cluster/ velocity of cluster to compare bs formations\n",
    "\n",
    "\n",
    "# find proper motion\n",
    "pm_squared = ((data['pmDE'] * .001)**2)+((data['pmRA'] * .001)**2)\n",
    "pm = pm_squared **.5\n",
    "\n",
    "# find tangential velocity\n",
    "\n",
    "tan_vel = pm * data['Dist'] * 4.74\n",
    "\n",
    "# find total velocity\n",
    "\n",
    "# CHANGE TO NEW DATAFRAME\n",
    "data2 = pd.read_csv('BSS_rVel.csv')\n",
    "\n",
    "idx_2 = data.index.values\n",
    "data2.index = idx_2\n",
    "# INDEX ARE WRONG\n",
    "\n",
    "one = data2[\"mean_rv\"] ** 2\n",
    "two = tan_vel ** 2\n",
    "total_vel = (one + two) **.5\n",
    "\n",
    "\n",
    "one.size\n",
    "num_bs = data['NBSS']\n",
    "\n",
    "our_data = {'Cluster': data['Cluster'].values, \n",
    "           'total_vel': total_vel.values, \n",
    "           'NBSS': num_bs.values,}\n",
    "\n",
    "df1 = pd.DataFrame(our_data)\n",
    "\n",
    "# here is just the data points we have \n",
    "df2 = df1.dropna()\n"
   ]
  },
  {
   "cell_type": "code",
   "execution_count": 24,
   "metadata": {},
   "outputs": [
    {
     "data": {
      "text/html": [
       "<div>\n",
       "<style scoped>\n",
       "    .dataframe tbody tr th:only-of-type {\n",
       "        vertical-align: middle;\n",
       "    }\n",
       "\n",
       "    .dataframe tbody tr th {\n",
       "        vertical-align: top;\n",
       "    }\n",
       "\n",
       "    .dataframe thead th {\n",
       "        text-align: right;\n",
       "    }\n",
       "</style>\n",
       "<table border=\"1\" class=\"dataframe\">\n",
       "  <thead>\n",
       "    <tr style=\"text-align: right;\">\n",
       "      <th></th>\n",
       "      <th>Cluster</th>\n",
       "      <th>total_vel</th>\n",
       "      <th>NBSS</th>\n",
       "    </tr>\n",
       "  </thead>\n",
       "  <tbody>\n",
       "    <tr>\n",
       "      <th>0</th>\n",
       "      <td>Berkeley_17</td>\n",
       "      <td>83.748081</td>\n",
       "      <td>20</td>\n",
       "    </tr>\n",
       "    <tr>\n",
       "      <th>1</th>\n",
       "      <td>Collinder_261</td>\n",
       "      <td>98.161129</td>\n",
       "      <td>53</td>\n",
       "    </tr>\n",
       "    <tr>\n",
       "      <th>2</th>\n",
       "      <td>NGC_6791</td>\n",
       "      <td>68.620087</td>\n",
       "      <td>48</td>\n",
       "    </tr>\n",
       "    <tr>\n",
       "      <th>3</th>\n",
       "      <td>Berkeley_39</td>\n",
       "      <td>77.574544</td>\n",
       "      <td>18</td>\n",
       "    </tr>\n",
       "    <tr>\n",
       "      <th>4</th>\n",
       "      <td>NGC_188</td>\n",
       "      <td>47.291506</td>\n",
       "      <td>22</td>\n",
       "    </tr>\n",
       "    <tr>\n",
       "      <th>...</th>\n",
       "      <td>...</td>\n",
       "      <td>...</td>\n",
       "      <td>...</td>\n",
       "    </tr>\n",
       "    <tr>\n",
       "      <th>106</th>\n",
       "      <td>NGC_6025</td>\n",
       "      <td>17.138551</td>\n",
       "      <td>1</td>\n",
       "    </tr>\n",
       "    <tr>\n",
       "      <th>107</th>\n",
       "      <td>NGC_2422</td>\n",
       "      <td>37.887511</td>\n",
       "      <td>1</td>\n",
       "    </tr>\n",
       "    <tr>\n",
       "      <th>108</th>\n",
       "      <td>Waterloo_7</td>\n",
       "      <td>75.121481</td>\n",
       "      <td>1</td>\n",
       "    </tr>\n",
       "    <tr>\n",
       "      <th>109</th>\n",
       "      <td>NGC_7790</td>\n",
       "      <td>99.327594</td>\n",
       "      <td>1</td>\n",
       "    </tr>\n",
       "    <tr>\n",
       "      <th>110</th>\n",
       "      <td>IC_361</td>\n",
       "      <td>53.838910</td>\n",
       "      <td>2</td>\n",
       "    </tr>\n",
       "  </tbody>\n",
       "</table>\n",
       "<p>104 rows × 3 columns</p>\n",
       "</div>"
      ],
      "text/plain": [
       "           Cluster  total_vel  NBSS\n",
       "0      Berkeley_17  83.748081    20\n",
       "1    Collinder_261  98.161129    53\n",
       "2         NGC_6791  68.620087    48\n",
       "3      Berkeley_39  77.574544    18\n",
       "4          NGC_188  47.291506    22\n",
       "..             ...        ...   ...\n",
       "106       NGC_6025  17.138551     1\n",
       "107       NGC_2422  37.887511     1\n",
       "108     Waterloo_7  75.121481     1\n",
       "109       NGC_7790  99.327594     1\n",
       "110         IC_361  53.838910     2\n",
       "\n",
       "[104 rows x 3 columns]"
      ]
     },
     "execution_count": 24,
     "metadata": {},
     "output_type": "execute_result"
    }
   ],
   "source": [
    "df2"
   ]
  },
  {
   "cell_type": "code",
   "execution_count": 25,
   "metadata": {},
   "outputs": [
    {
     "data": {
      "text/plain": [
       "0.0040561924485737946"
      ]
     },
     "execution_count": 25,
     "metadata": {},
     "output_type": "execute_result"
    }
   ],
   "source": [
    "pm.mean()"
   ]
  },
  {
   "cell_type": "code",
   "execution_count": 26,
   "metadata": {},
   "outputs": [
    {
     "data": {
      "image/png": "[encoded data removed]",
      "text/plain": [
       "<Figure size 432x288 with 1 Axes>"
      ]
     },
     "metadata": {
      "needs_background": "light"
     },
     "output_type": "display_data"
    },
    {
     "data": {
      "text/plain": [
       "0.08012496566305206"
      ]
     },
     "execution_count": 26,
     "metadata": {},
     "output_type": "execute_result"
    }
   ],
   "source": [
    "# PLOT OF BLUE STRAGGLERS BY TOTAL VELOCITY \n",
    "\n",
    "\n",
    "total_vel = df2['total_vel']\n",
    "nbs = df2['NBSS']\n",
    "\n",
    "fig = plt.figure()\n",
    "plt.scatter(total_vel, nbs, c=\"red\", alpha=0.65, marker='*',label=\"Amount of Stragglers\")\n",
    "plt.xlabel(\"Total Velocity km/s\")\n",
    "plt.ylabel(\"Number of Blue Stragglers\")\n",
    "plt.legend(loc='upper left')\n",
    "plt.title('Number of Blue Stragglers by Total Velocity')\n",
    "plt.show()\n",
    "\n",
    "\n",
    "total_vel.corr(nbs)"
   ]
  },
  {
   "cell_type": "code",
   "execution_count": 27,
   "metadata": {},
   "outputs": [
    {
     "data": {
      "image/png": "[encoded data removed]",
      "text/plain": [
       "<Figure size 432x288 with 1 Axes>"
      ]
     },
     "metadata": {
      "needs_background": "light"
     },
     "output_type": "display_data"
    },
    {
     "data": {
      "text/plain": [
       "63.69215626710635"
      ]
     },
     "execution_count": 27,
     "metadata": {},
     "output_type": "execute_result"
    }
   ],
   "source": [
    "plt.hist(total_vel, bins=50, density=False, facecolor='b', alpha=0.60)\n",
    "plt.xlabel('Total Velocity in km/s')\n",
    "plt.ylabel('Frequency')\n",
    "plt.title('Histogram of Total Velocity in Open Clusters')\n",
    "plt.grid(True)\n",
    "plt.show()\n",
    "\n",
    "total_vel.mean()"
   ]
  },
  {
   "cell_type": "code",
   "execution_count": 28,
   "metadata": {},
   "outputs": [],
   "source": [
    "# READING SIMBAD INFO\n",
    "\n",
    "data3 = pd.read_csv('BSS_rVel.csv')\n",
    "idx_3 = data.index.values\n",
    "data3.index = idx_3\n",
    "\n",
    "rad_data = {'Cluster': data['Cluster'].values,\n",
    "            'NBSS': num_bs.values,\n",
    "           'Rad_vel': data3['mean_rv'].values}\n",
    "\n",
    "vel_df = pd.DataFrame(rad_data)\n",
    "vel_df1 = vel_df.dropna()\n",
    "vel_df1\n",
    "\n",
    "\n",
    "\n",
    "\n",
    "#-------------------------------------------------\n",
    "\n",
    "all_data = {'Cluster': vel_df1['Cluster'].values,\n",
    "           'rad_vel': vel_df1['Rad_vel'].values,\n",
    "           'total_vel': df2['total_vel'].values,\n",
    "           'NBSS': nbs}\n",
    "\n",
    "proper_motion = {'Cluster': data['Cluster'], \n",
    "                'proper_motion': pm}\n",
    "\n",
    "\n",
    "\n",
    "pm_df = pd.DataFrame(proper_motion)\n",
    "all_df = pd.DataFrame(all_data)\n",
    "\n",
    "#pm_df.to_csv('BS_properMotion.csv')\n",
    "#all_df.to_csv('BS_allData.csv')"
   ]
  },
  {
   "cell_type": "code",
   "execution_count": 29,
   "metadata": {},
   "outputs": [
    {
     "data": {
      "image/png": "[encoded data removed]",
      "text/plain": [
       "<Figure size 432x288 with 1 Axes>"
      ]
     },
     "metadata": {
      "needs_background": "light"
     },
     "output_type": "display_data"
    },
    {
     "data": {
      "text/plain": [
       "0.01530366311406721"
      ]
     },
     "execution_count": 29,
     "metadata": {},
     "output_type": "execute_result"
    }
   ],
   "source": [
    "rad_vel = vel_df1['Rad_vel']\n",
    "num_bs1 = vel_df1['NBSS']\n",
    "\n",
    "# creating a basic scatterplot\n",
    "fig = plt.figure()\n",
    "plt.scatter(rad_vel, num_bs1, c=\"blue\", alpha=0.9, marker='*',label=\"Amount of Stragglers\")\n",
    "plt.xlabel(\"Radial Velocity km/s\")\n",
    "plt.ylabel(\"Number of Blue Stragglers\")\n",
    "plt.legend(loc='upper left')\n",
    "plt.title('Number of Blue Stragglers by Radial Velocity')\n",
    "plt.show()\n",
    "\n",
    "rad_vel.mean()\n",
    "rad_vel.corr(num_bs1)"
   ]
  },
  {
   "cell_type": "code",
   "execution_count": 30,
   "metadata": {},
   "outputs": [
    {
     "data": {
      "text/plain": [
       "0.9846963368859328"
      ]
     },
     "execution_count": 30,
     "metadata": {},
     "output_type": "execute_result"
    }
   ],
   "source": [
    "import scipy \n",
    "\n",
    "rad_vel = rad_vel.values\n",
    "num_bs1 = num_bs1.values\n",
    "\n",
    "scipy.spatial.distance.correlation(rad_vel, num_bs1)"
   ]
  },
  {
   "cell_type": "code",
   "execution_count": 31,
   "metadata": {},
   "outputs": [
    {
     "ename": "ModuleNotFoundError",
     "evalue": "No module named 'dcor'",
     "output_type": "error",
     "traceback": [
      "\u001b[1;31m---------------------------------------------------------------------------\u001b[0m",
      "\u001b[1;31mModuleNotFoundError\u001b[0m                       Traceback (most recent call last)",
      "\u001b[1;32m<ipython-input-31-a614b9a25fcc>\u001b[0m in \u001b[0;36m<module>\u001b[1;34m\u001b[0m\n\u001b[1;32m----> 1\u001b[1;33m \u001b[1;32mimport\u001b[0m \u001b[0mdcor\u001b[0m\u001b[1;33m\u001b[0m\u001b[1;33m\u001b[0m\u001b[0m\n\u001b[0m\u001b[0;32m      2\u001b[0m \u001b[1;33m\u001b[0m\u001b[0m\n\u001b[0;32m      3\u001b[0m \u001b[1;32mdef\u001b[0m \u001b[0mdistance_correlation\u001b[0m\u001b[1;33m(\u001b[0m\u001b[0ma\u001b[0m\u001b[1;33m,\u001b[0m\u001b[0mb\u001b[0m\u001b[1;33m)\u001b[0m\u001b[1;33m:\u001b[0m\u001b[1;33m\u001b[0m\u001b[1;33m\u001b[0m\u001b[0m\n\u001b[0;32m      4\u001b[0m     \u001b[1;32mreturn\u001b[0m \u001b[0mdcor\u001b[0m\u001b[1;33m.\u001b[0m\u001b[0mdistance_correlation\u001b[0m\u001b[1;33m(\u001b[0m\u001b[0ma\u001b[0m\u001b[1;33m,\u001b[0m\u001b[0mb\u001b[0m\u001b[1;33m)\u001b[0m\u001b[1;33m\u001b[0m\u001b[1;33m\u001b[0m\u001b[0m\n",
      "\u001b[1;31mModuleNotFoundError\u001b[0m: No module named 'dcor'"
     ]
    }
   ],
   "source": [
    "import dcor\n",
    "\n",
    "def distance_correlation(a,b):\n",
    "    return dcor.distance_correlation(a,b)"
   ]
  },
  {
   "cell_type": "code",
   "execution_count": 32,
   "metadata": {},
   "outputs": [
    {
     "ename": "NameError",
     "evalue": "name 'distance_correlation' is not defined",
     "output_type": "error",
     "traceback": [
      "\u001b[1;31m---------------------------------------------------------------------------\u001b[0m",
      "\u001b[1;31mNameError\u001b[0m                                 Traceback (most recent call last)",
      "\u001b[1;32m<ipython-input-32-841f76deb89d>\u001b[0m in \u001b[0;36m<module>\u001b[1;34m\u001b[0m\n\u001b[1;32m----> 1\u001b[1;33m \u001b[0mdistance_correlation\u001b[0m\u001b[1;33m(\u001b[0m\u001b[0mrad_vel\u001b[0m\u001b[1;33m,\u001b[0m \u001b[0mnum_bs1\u001b[0m\u001b[1;33m)\u001b[0m\u001b[1;33m\u001b[0m\u001b[1;33m\u001b[0m\u001b[0m\n\u001b[0m",
      "\u001b[1;31mNameError\u001b[0m: name 'distance_correlation' is not defined"
     ]
    }
   ],
   "source": [
    "distance_correlation(rad_vel, num_bs1)"
   ]
  },
  {
   "cell_type": "code",
   "execution_count": 33,
   "metadata": {},
   "outputs": [],
   "source": [
    "#vel_df1['Cluster'].loc('C')"
   ]
  },
  {
   "cell_type": "code",
   "execution_count": 34,
   "metadata": {},
   "outputs": [
    {
     "data": {
      "image/png": "[encoded data removed]",
      "text/plain": [
       "<Figure size 432x288 with 1 Axes>"
      ]
     },
     "metadata": {
      "needs_background": "light"
     },
     "output_type": "display_data"
    }
   ],
   "source": [
    "plt.hist(rad_vel, bins=50, density=False, facecolor='b', alpha=0.60)\n",
    "plt.xlabel('Radial Velocity in km/s')\n",
    "plt.ylabel('Frequency')\n",
    "plt.title('Histogram of Radial Velocity in Open Clusters')\n",
    "plt.grid(True)\n",
    "plt.show()"
   ]
  },
  {
   "cell_type": "code",
   "execution_count": 35,
   "metadata": {},
   "outputs": [
    {
     "data": {
      "image/png": "[encoded data removed]",
      "text/plain": [
       "<Figure size 432x288 with 1 Axes>"
      ]
     },
     "metadata": {
      "needs_background": "light"
     },
     "output_type": "display_data"
    },
    {
     "ename": "AttributeError",
     "evalue": "'numpy.ndarray' object has no attribute 'corr'",
     "output_type": "error",
     "traceback": [
      "\u001b[1;31m---------------------------------------------------------------------------\u001b[0m",
      "\u001b[1;31mAttributeError\u001b[0m                            Traceback (most recent call last)",
      "\u001b[1;32m<ipython-input-35-d6f8ec04c7a9>\u001b[0m in \u001b[0;36m<module>\u001b[1;34m\u001b[0m\n\u001b[0;32m      7\u001b[0m \u001b[0mplt\u001b[0m\u001b[1;33m.\u001b[0m\u001b[0mshow\u001b[0m\u001b[1;33m(\u001b[0m\u001b[1;33m)\u001b[0m\u001b[1;33m\u001b[0m\u001b[1;33m\u001b[0m\u001b[0m\n\u001b[0;32m      8\u001b[0m \u001b[1;33m\u001b[0m\u001b[0m\n\u001b[1;32m----> 9\u001b[1;33m \u001b[0mnew_rad\u001b[0m\u001b[1;33m.\u001b[0m\u001b[0mcorr\u001b[0m\u001b[1;33m(\u001b[0m\u001b[0mnum_bs1\u001b[0m\u001b[1;33m)\u001b[0m\u001b[1;33m\u001b[0m\u001b[1;33m\u001b[0m\u001b[0m\n\u001b[0m\u001b[0;32m     10\u001b[0m \u001b[0mscipy\u001b[0m\u001b[1;33m.\u001b[0m\u001b[0mspatial\u001b[0m\u001b[1;33m.\u001b[0m\u001b[0mdistance\u001b[0m\u001b[1;33m.\u001b[0m\u001b[0mcorrelation\u001b[0m\u001b[1;33m(\u001b[0m\u001b[0mnew_rad\u001b[0m\u001b[1;33m,\u001b[0m \u001b[0mnum_bs1\u001b[0m\u001b[1;33m)\u001b[0m\u001b[1;33m\u001b[0m\u001b[1;33m\u001b[0m\u001b[0m\n",
      "\u001b[1;31mAttributeError\u001b[0m: 'numpy.ndarray' object has no attribute 'corr'"
     ]
    }
   ],
   "source": [
    "new_rad = rad_vel[rad_vel > -100]\n",
    "plt.hist(new_rad, bins=50, density=False, facecolor='b', alpha=0.60)\n",
    "plt.xlabel('Radial Velocity in km/s')\n",
    "plt.ylabel('Frequency')\n",
    "plt.title('Histogram of Radial Velocity in Open Clusters')\n",
    "plt.grid(True)\n",
    "plt.show()\n",
    "\n",
    "new_rad.corr(num_bs1)\n",
    "scipy.spatial.distance.correlation(new_rad, num_bs1)"
   ]
  },
  {
   "cell_type": "code",
   "execution_count": 36,
   "metadata": {},
   "outputs": [
    {
     "data": {
      "image/png": "[encoded data removed]",
      "text/plain": [
       "<Figure size 432x288 with 1 Axes>"
      ]
     },
     "metadata": {
      "needs_background": "light"
     },
     "output_type": "display_data"
    },
    {
     "data": {
      "text/plain": [
       "0.020472509957080477"
      ]
     },
     "execution_count": 36,
     "metadata": {},
     "output_type": "execute_result"
    }
   ],
   "source": [
    "to_drop = vel_df1[(vel_df1['Rad_vel'] < 10) & (vel_df1['Rad_vel'] > -5) & (vel_df1['NBSS'] >= 10)] \n",
    "\n",
    "drop_idx = to_drop.index.values\n",
    "rad_df2 = vel_df1.drop(drop_idx)\n",
    "\n",
    "\n",
    "rad_vel = rad_df2['Rad_vel']\n",
    "num_bs1 = rad_df2['NBSS']\n",
    "\n",
    "# creating a basic scatterplot\n",
    "fig = plt.figure()\n",
    "plt.scatter(rad_vel, num_bs1, c=\"blue\", alpha=0.9, marker='*',label=\"Amount of Stragglers\")\n",
    "plt.xlabel(\"Radial Velocity km/s\")\n",
    "plt.ylabel(\"Number of Blue Stragglers\")\n",
    "plt.legend(loc='upper left')\n",
    "plt.title('Number of Blue Stragglers by Radial Velocity')\n",
    "plt.show()\n",
    "\n",
    "rad_vel.corr(num_bs1)"
   ]
  },
  {
   "cell_type": "code",
   "execution_count": 37,
   "metadata": {},
   "outputs": [
    {
     "data": {
      "image/png": "[encoded data removed]",
      "text/plain": [
       "<Figure size 432x288 with 1 Axes>"
      ]
     },
     "metadata": {
      "needs_background": "light"
     },
     "output_type": "display_data"
    },
    {
     "data": {
      "text/plain": [
       "5.171"
      ]
     },
     "execution_count": 37,
     "metadata": {},
     "output_type": "execute_result"
    }
   ],
   "source": [
    "\n",
    "plt.hist(rad_vel, bins=50, density=False, facecolor='b', alpha=0.60)\n",
    "plt.xlabel('Radial Velocity in km/s')\n",
    "plt.ylabel('Frequency')\n",
    "plt.title('Histogram of Radial Velocity in Open Clusters')\n",
    "plt.grid(True)\n",
    "plt.show()\n",
    "\n",
    "rad_vel.mean()"
   ]
  },
  {
   "cell_type": "code",
   "execution_count": 63,
   "metadata": {},
   "outputs": [
    {
     "ename": "TypeError",
     "evalue": "'int' object is not callable",
     "output_type": "error",
     "traceback": [
      "\u001b[1;31m---------------------------------------------------------------------------\u001b[0m",
      "\u001b[1;31mTypeError\u001b[0m                                 Traceback (most recent call last)",
      "\u001b[1;32m<ipython-input-63-d9ec64abd5c3>\u001b[0m in \u001b[0;36m<module>\u001b[1;34m\u001b[0m\n\u001b[0;32m      4\u001b[0m     \u001b[1;32mreturn\u001b[0m \u001b[0ma\u001b[0m \u001b[1;33m*\u001b[0m \u001b[1;33m(\u001b[0m\u001b[0mx\u001b[0m \u001b[1;33m**\u001b[0m \u001b[1;36m2\u001b[0m\u001b[1;33m)\u001b[0m \u001b[1;33m+\u001b[0m \u001b[0mb\u001b[0m\u001b[1;33m(\u001b[0m\u001b[0mx\u001b[0m\u001b[1;33m)\u001b[0m\u001b[1;33m\u001b[0m\u001b[1;33m\u001b[0m\u001b[0m\n\u001b[0;32m      5\u001b[0m \u001b[1;33m\u001b[0m\u001b[0m\n\u001b[1;32m----> 6\u001b[1;33m \u001b[0mparams\u001b[0m\u001b[1;33m,\u001b[0m \u001b[0mparams_covariance\u001b[0m \u001b[1;33m=\u001b[0m \u001b[0moptimize\u001b[0m\u001b[1;33m.\u001b[0m\u001b[0mcurve_fit\u001b[0m\u001b[1;33m(\u001b[0m\u001b[0mtest_func\u001b[0m\u001b[1;33m(\u001b[0m\u001b[1;36m1\u001b[0m\u001b[1;33m,\u001b[0m\u001b[1;36m2\u001b[0m\u001b[1;33m,\u001b[0m\u001b[1;36m3\u001b[0m\u001b[1;33m)\u001b[0m\u001b[1;33m,\u001b[0m \u001b[0mrad_vel\u001b[0m\u001b[1;33m,\u001b[0m \u001b[0mnum_bs1\u001b[0m\u001b[1;33m)\u001b[0m\u001b[1;33m\u001b[0m\u001b[1;33m\u001b[0m\u001b[0m\n\u001b[0m\u001b[0;32m      7\u001b[0m \u001b[1;31m#params,  = optimize.curve_fit(test_func, rad_vel, num_bs1)\u001b[0m\u001b[1;33m\u001b[0m\u001b[1;33m\u001b[0m\u001b[1;33m\u001b[0m\u001b[0m\n\u001b[0;32m      8\u001b[0m \u001b[1;33m\u001b[0m\u001b[0m\n",
      "\u001b[1;32m<ipython-input-63-d9ec64abd5c3>\u001b[0m in \u001b[0;36mtest_func\u001b[1;34m(x, a, b)\u001b[0m\n\u001b[0;32m      2\u001b[0m \u001b[1;33m\u001b[0m\u001b[0m\n\u001b[0;32m      3\u001b[0m \u001b[1;32mdef\u001b[0m \u001b[0mtest_func\u001b[0m\u001b[1;33m(\u001b[0m\u001b[0mx\u001b[0m\u001b[1;33m,\u001b[0m \u001b[0ma\u001b[0m\u001b[1;33m,\u001b[0m \u001b[0mb\u001b[0m\u001b[1;33m)\u001b[0m\u001b[1;33m:\u001b[0m\u001b[1;33m\u001b[0m\u001b[1;33m\u001b[0m\u001b[0m\n\u001b[1;32m----> 4\u001b[1;33m     \u001b[1;32mreturn\u001b[0m \u001b[0ma\u001b[0m \u001b[1;33m*\u001b[0m \u001b[1;33m(\u001b[0m\u001b[0mx\u001b[0m \u001b[1;33m**\u001b[0m \u001b[1;36m2\u001b[0m\u001b[1;33m)\u001b[0m \u001b[1;33m+\u001b[0m \u001b[0mb\u001b[0m\u001b[1;33m(\u001b[0m\u001b[0mx\u001b[0m\u001b[1;33m)\u001b[0m\u001b[1;33m\u001b[0m\u001b[1;33m\u001b[0m\u001b[0m\n\u001b[0m\u001b[0;32m      5\u001b[0m \u001b[1;33m\u001b[0m\u001b[0m\n\u001b[0;32m      6\u001b[0m \u001b[0mparams\u001b[0m\u001b[1;33m,\u001b[0m \u001b[0mparams_covariance\u001b[0m \u001b[1;33m=\u001b[0m \u001b[0moptimize\u001b[0m\u001b[1;33m.\u001b[0m\u001b[0mcurve_fit\u001b[0m\u001b[1;33m(\u001b[0m\u001b[0mtest_func\u001b[0m\u001b[1;33m(\u001b[0m\u001b[1;36m1\u001b[0m\u001b[1;33m,\u001b[0m\u001b[1;36m2\u001b[0m\u001b[1;33m,\u001b[0m\u001b[1;36m3\u001b[0m\u001b[1;33m)\u001b[0m\u001b[1;33m,\u001b[0m \u001b[0mrad_vel\u001b[0m\u001b[1;33m,\u001b[0m \u001b[0mnum_bs1\u001b[0m\u001b[1;33m)\u001b[0m\u001b[1;33m\u001b[0m\u001b[1;33m\u001b[0m\u001b[0m\n",
      "\u001b[1;31mTypeError\u001b[0m: 'int' object is not callable"
     ]
    }
   ],
   "source": [
    "from scipy import optimize\n",
    "\n",
    "def test_func(x, a, b):\n",
    "    return a * (x ** 2) + b(x) \n",
    "\n",
    "params, params_covariance = optimize.curve_fit(test_func(1,2,3), rad_vel, num_bs1)\n",
    "#params,  = optimize.curve_fit(test_func, rad_vel, num_bs1)\n",
    "\n",
    "print(params)"
   ]
  },
  {
   "cell_type": "code",
   "execution_count": 39,
   "metadata": {},
   "outputs": [
    {
     "ename": "NameError",
     "evalue": "name 'params' is not defined",
     "output_type": "error",
     "traceback": [
      "\u001b[1;31m---------------------------------------------------------------------------\u001b[0m",
      "\u001b[1;31mNameError\u001b[0m                                 Traceback (most recent call last)",
      "\u001b[1;32m<ipython-input-39-ea8ae5c5620b>\u001b[0m in \u001b[0;36m<module>\u001b[1;34m\u001b[0m\n\u001b[0;32m      1\u001b[0m \u001b[0mplt\u001b[0m\u001b[1;33m.\u001b[0m\u001b[0mfigure\u001b[0m\u001b[1;33m(\u001b[0m\u001b[0mfigsize\u001b[0m\u001b[1;33m=\u001b[0m\u001b[1;33m(\u001b[0m\u001b[1;36m6\u001b[0m\u001b[1;33m,\u001b[0m \u001b[1;36m4\u001b[0m\u001b[1;33m)\u001b[0m\u001b[1;33m)\u001b[0m\u001b[1;33m\u001b[0m\u001b[1;33m\u001b[0m\u001b[0m\n\u001b[0;32m      2\u001b[0m \u001b[0mplt\u001b[0m\u001b[1;33m.\u001b[0m\u001b[0mscatter\u001b[0m\u001b[1;33m(\u001b[0m\u001b[0mrad_vel\u001b[0m\u001b[1;33m,\u001b[0m \u001b[0mnum_bs1\u001b[0m\u001b[1;33m,\u001b[0m \u001b[0mlabel\u001b[0m\u001b[1;33m=\u001b[0m\u001b[1;34m'Data'\u001b[0m\u001b[1;33m)\u001b[0m\u001b[1;33m\u001b[0m\u001b[1;33m\u001b[0m\u001b[0m\n\u001b[1;32m----> 3\u001b[1;33m plt.plot(rad_vel, test_func(rad_vel, params[0], params[1]),\n\u001b[0m\u001b[0;32m      4\u001b[0m          label='Fitted function')\n\u001b[0;32m      5\u001b[0m \u001b[1;33m\u001b[0m\u001b[0m\n",
      "\u001b[1;31mNameError\u001b[0m: name 'params' is not defined"
     ]
    },
    {
     "data": {
      "image/png": "[encoded data removed]",
      "text/plain": [
       "<Figure size 432x288 with 1 Axes>"
      ]
     },
     "metadata": {
      "needs_background": "light"
     },
     "output_type": "display_data"
    }
   ],
   "source": [
    "plt.figure(figsize=(6, 4))\n",
    "plt.scatter(rad_vel, num_bs1, label='Data')\n",
    "plt.plot(rad_vel, test_func(rad_vel, params[0], params[1]),\n",
    "         label='Fitted function')\n",
    "\n",
    "plt.legend(loc='best')\n",
    "\n",
    "plt.show()"
   ]
  },
  {
   "cell_type": "code",
   "execution_count": 40,
   "metadata": {},
   "outputs": [],
   "source": [
    "# creating numpy array of values in our datafram \n",
    "rad_nbs = rad_df2[['Rad_vel', 'NBSS']].values"
   ]
  },
  {
   "cell_type": "code",
   "execution_count": 41,
   "metadata": {},
   "outputs": [
    {
     "data": {
      "image/png": "[encoded data removed]",
      "text/plain": [
       "<Figure size 432x288 with 1 Axes>"
      ]
     },
     "metadata": {
      "needs_background": "light"
     },
     "output_type": "display_data"
    }
   ],
   "source": [
    "# regression problem to calculate continious variable\n",
    "rad_df3 = rad_df2[rad_df2['Rad_vel'] <= 0]\n",
    "\n",
    "fig = plt.figure()\n",
    "plt.scatter(rad_df3['Rad_vel'], rad_df3['NBSS'], c=\"blue\", alpha=0.9, marker='*',label=\"Amount of Stragglers\")\n",
    "plt.xlabel(\"Radial Velocity km/s\")\n",
    "plt.ylabel(\"Number of Blue Stragglers\")\n",
    "plt.legend(loc='upper left')\n",
    "plt.title('Number of Blue Stragglers by Radial Velocity')\n",
    "plt.show()\n"
   ]
  },
  {
   "cell_type": "code",
   "execution_count": 42,
   "metadata": {},
   "outputs": [],
   "source": [
    "#vel_df['Cluster'].to_csv('names_metal.csv')"
   ]
  },
  {
   "cell_type": "code",
   "execution_count": 43,
   "metadata": {},
   "outputs": [],
   "source": [
    "# cleaning up data \n",
    "# distance is in parsecs and ang radius is in arc minutes\n",
    "\n",
    "\n",
    "cl_radius = pd.read_csv('radius.csv', header=None)\n",
    "cl_radius.columns = ['cluster', 'ang_rc']\n",
    "\n",
    "cl_radius['rad_vel'] = vel_df['Rad_vel']\n",
    "cl_radius['NBSS'] = vel_df['NBSS']\n",
    "cl_radius['Dist'] = data['Dist']\n",
    "\n",
    "cl_radius = cl_radius.dropna()\n"
   ]
  },
  {
   "cell_type": "code",
   "execution_count": 44,
   "metadata": {},
   "outputs": [],
   "source": [
    "# converting angular radius to tidal radius\n",
    "\n",
    "# ang_rc = 206265 ( (diameter/2) / distance)\n",
    "\n",
    "\n",
    "# ((ang_rc * 2)/ 206265) * distance = diamter\n",
    "# radius = diamer/2\n",
    "\n",
    "# ang rc needs to be in arc seconds \n",
    "# distance needs to be in arc seconds\n",
    "\n",
    "# concerting ang rc to arc seconds\n",
    "\n",
    "# type is string \n",
    "cl_radius['ang_rc'] = cl_radius['ang_rc'].astype(float)\n",
    "# changing to arc seconds\n",
    "cl_radius['rc_ac'] = cl_radius['ang_rc'] * 60\n",
    "\n",
    "# converting distance in parsecs to arc seconds\n",
    "cl_radius['Dist_ac'] = cl_radius['Dist']\n",
    "\n",
    "# distance kept in parsecs so radius is in parsecs\n",
    "cl_radius['radius'] = (((cl_radius['rc_ac']) * cl_radius['Dist_ac']) / 206265)\n",
    "\n",
    "\n"
   ]
  },
  {
   "cell_type": "code",
   "execution_count": 45,
   "metadata": {},
   "outputs": [
    {
     "data": {
      "image/png": "[encoded data removed]",
      "text/plain": [
       "<Figure size 432x288 with 1 Axes>"
      ]
     },
     "metadata": {
      "needs_background": "light"
     },
     "output_type": "display_data"
    },
    {
     "name": "stdout",
     "output_type": "stream",
     "text": [
      "correlation value r between number of blue stragglers and Radius:\n",
      "0.22218976215659111\n"
     ]
    },
    {
     "data": {
      "text/plain": [
       "8.060473350855867"
      ]
     },
     "execution_count": 45,
     "metadata": {},
     "output_type": "execute_result"
    }
   ],
   "source": [
    "fig = plt.figure()\n",
    "plt.scatter(cl_radius['radius'], cl_radius['NBSS'], c=\"blue\", alpha=0.9, marker='*',label=\"Amount of Stragglers\")\n",
    "plt.xlabel(\"Radius in pcs\")\n",
    "plt.ylabel(\"Number of Blue Stragglers\")\n",
    "plt.legend(loc='upper left')\n",
    "plt.title('Number of Blue Stragglers by Radius')\n",
    "plt.show()\n",
    "\n",
    "y = pd.Series(cl_radius['NBSS'])\n",
    "x = pd.Series(cl_radius['radius'])\n",
    "print('correlation value r between number of blue stragglers and Radius:')\n",
    "print(x.corr(y))\n",
    "\n",
    "cl_radius['radius'].mean()"
   ]
  },
  {
   "cell_type": "code",
   "execution_count": 46,
   "metadata": {},
   "outputs": [
    {
     "data": {
      "text/plain": [
       "0.7778102378434089"
      ]
     },
     "execution_count": 46,
     "metadata": {},
     "output_type": "execute_result"
    }
   ],
   "source": [
    "import scipy \n",
    "\n",
    "scipy.spatial.distance.correlation(cl_radius['radius'].values, cl_radius['NBSS'].values)"
   ]
  },
  {
   "cell_type": "code",
   "execution_count": 48,
   "metadata": {},
   "outputs": [
    {
     "data": {
      "text/html": [
       "<div>\n",
       "<style scoped>\n",
       "    .dataframe tbody tr th:only-of-type {\n",
       "        vertical-align: middle;\n",
       "    }\n",
       "\n",
       "    .dataframe tbody tr th {\n",
       "        vertical-align: top;\n",
       "    }\n",
       "\n",
       "    .dataframe thead th {\n",
       "        text-align: right;\n",
       "    }\n",
       "</style>\n",
       "<table border=\"1\" class=\"dataframe\">\n",
       "  <thead>\n",
       "    <tr style=\"text-align: right;\">\n",
       "      <th></th>\n",
       "      <th>cluster</th>\n",
       "      <th>radius</th>\n",
       "      <th>NBSS</th>\n",
       "    </tr>\n",
       "  </thead>\n",
       "  <tbody>\n",
       "    <tr>\n",
       "      <th>0</th>\n",
       "      <td>Berkeley_17</td>\n",
       "      <td>6.435443</td>\n",
       "      <td>20</td>\n",
       "    </tr>\n",
       "    <tr>\n",
       "      <th>1</th>\n",
       "      <td>Collinder_261</td>\n",
       "      <td>9.122234</td>\n",
       "      <td>53</td>\n",
       "    </tr>\n",
       "    <tr>\n",
       "      <th>2</th>\n",
       "      <td>NGC_6791</td>\n",
       "      <td>13.838528</td>\n",
       "      <td>48</td>\n",
       "    </tr>\n",
       "    <tr>\n",
       "      <th>3</th>\n",
       "      <td>Berkeley_39</td>\n",
       "      <td>14.069095</td>\n",
       "      <td>18</td>\n",
       "    </tr>\n",
       "    <tr>\n",
       "      <th>4</th>\n",
       "      <td>NGC_188</td>\n",
       "      <td>10.032594</td>\n",
       "      <td>22</td>\n",
       "    </tr>\n",
       "    <tr>\n",
       "      <th>8</th>\n",
       "      <td>Berkeley_32</td>\n",
       "      <td>7.392050</td>\n",
       "      <td>27</td>\n",
       "    </tr>\n",
       "    <tr>\n",
       "      <th>9</th>\n",
       "      <td>NGC_1193</td>\n",
       "      <td>6.409669</td>\n",
       "      <td>12</td>\n",
       "    </tr>\n",
       "    <tr>\n",
       "      <th>15</th>\n",
       "      <td>Melotte_66</td>\n",
       "      <td>17.856447</td>\n",
       "      <td>14</td>\n",
       "    </tr>\n",
       "    <tr>\n",
       "      <th>18</th>\n",
       "      <td>Berkeley_99</td>\n",
       "      <td>9.295563</td>\n",
       "      <td>5</td>\n",
       "    </tr>\n",
       "    <tr>\n",
       "      <th>21</th>\n",
       "      <td>NGC_6819</td>\n",
       "      <td>11.342448</td>\n",
       "      <td>15</td>\n",
       "    </tr>\n",
       "    <tr>\n",
       "      <th>23</th>\n",
       "      <td>Berkeley_31</td>\n",
       "      <td>6.350729</td>\n",
       "      <td>6</td>\n",
       "    </tr>\n",
       "    <tr>\n",
       "      <th>25</th>\n",
       "      <td>NGC_6939</td>\n",
       "      <td>8.016981</td>\n",
       "      <td>2</td>\n",
       "    </tr>\n",
       "    <tr>\n",
       "      <th>32</th>\n",
       "      <td>NGC_2354</td>\n",
       "      <td>3.533052</td>\n",
       "      <td>5</td>\n",
       "    </tr>\n",
       "    <tr>\n",
       "      <th>35</th>\n",
       "      <td>Collinder_110</td>\n",
       "      <td>25.361995</td>\n",
       "      <td>8</td>\n",
       "    </tr>\n",
       "    <tr>\n",
       "      <th>39</th>\n",
       "      <td>Trumpler_20</td>\n",
       "      <td>4.491877</td>\n",
       "      <td>12</td>\n",
       "    </tr>\n",
       "    <tr>\n",
       "      <th>40</th>\n",
       "      <td>Collinder_74</td>\n",
       "      <td>5.117085</td>\n",
       "      <td>5</td>\n",
       "    </tr>\n",
       "    <tr>\n",
       "      <th>42</th>\n",
       "      <td>King_5</td>\n",
       "      <td>7.134608</td>\n",
       "      <td>4</td>\n",
       "    </tr>\n",
       "    <tr>\n",
       "      <th>43</th>\n",
       "      <td>NGC_7044</td>\n",
       "      <td>4.581223</td>\n",
       "      <td>7</td>\n",
       "    </tr>\n",
       "    <tr>\n",
       "      <th>44</th>\n",
       "      <td>IC_166</td>\n",
       "      <td>5.028481</td>\n",
       "      <td>9</td>\n",
       "    </tr>\n",
       "    <tr>\n",
       "      <th>45</th>\n",
       "      <td>NGC_6005</td>\n",
       "      <td>6.172595</td>\n",
       "      <td>3</td>\n",
       "    </tr>\n",
       "    <tr>\n",
       "      <th>48</th>\n",
       "      <td>King_11</td>\n",
       "      <td>4.429420</td>\n",
       "      <td>18</td>\n",
       "    </tr>\n",
       "    <tr>\n",
       "      <th>49</th>\n",
       "      <td>NGC_2660</td>\n",
       "      <td>1.300225</td>\n",
       "      <td>2</td>\n",
       "    </tr>\n",
       "    <tr>\n",
       "      <th>53</th>\n",
       "      <td>NGC_2158</td>\n",
       "      <td>6.867607</td>\n",
       "      <td>39</td>\n",
       "    </tr>\n",
       "    <tr>\n",
       "      <th>57</th>\n",
       "      <td>NGC_6583</td>\n",
       "      <td>5.474704</td>\n",
       "      <td>1</td>\n",
       "    </tr>\n",
       "    <tr>\n",
       "      <th>59</th>\n",
       "      <td>NGC_2506</td>\n",
       "      <td>36.416130</td>\n",
       "      <td>14</td>\n",
       "    </tr>\n",
       "    <tr>\n",
       "      <th>60</th>\n",
       "      <td>Berkeley_81</td>\n",
       "      <td>4.766048</td>\n",
       "      <td>1</td>\n",
       "    </tr>\n",
       "    <tr>\n",
       "      <th>64</th>\n",
       "      <td>NGC_6866</td>\n",
       "      <td>7.710639</td>\n",
       "      <td>1</td>\n",
       "    </tr>\n",
       "    <tr>\n",
       "      <th>80</th>\n",
       "      <td>NGC_2818</td>\n",
       "      <td>10.494489</td>\n",
       "      <td>5</td>\n",
       "    </tr>\n",
       "    <tr>\n",
       "      <th>86</th>\n",
       "      <td>NGC_2099</td>\n",
       "      <td>7.031925</td>\n",
       "      <td>1</td>\n",
       "    </tr>\n",
       "    <tr>\n",
       "      <th>88</th>\n",
       "      <td>NGC_1907</td>\n",
       "      <td>3.290481</td>\n",
       "      <td>1</td>\n",
       "    </tr>\n",
       "    <tr>\n",
       "      <th>90</th>\n",
       "      <td>Berkeley_58</td>\n",
       "      <td>7.915279</td>\n",
       "      <td>1</td>\n",
       "    </tr>\n",
       "    <tr>\n",
       "      <th>92</th>\n",
       "      <td>NGC_2383</td>\n",
       "      <td>5.482672</td>\n",
       "      <td>1</td>\n",
       "    </tr>\n",
       "    <tr>\n",
       "      <th>94</th>\n",
       "      <td>NGC_2437</td>\n",
       "      <td>24.386983</td>\n",
       "      <td>1</td>\n",
       "    </tr>\n",
       "    <tr>\n",
       "      <th>97</th>\n",
       "      <td>NGC_559</td>\n",
       "      <td>3.048290</td>\n",
       "      <td>1</td>\n",
       "    </tr>\n",
       "    <tr>\n",
       "      <th>98</th>\n",
       "      <td>NGC_6603</td>\n",
       "      <td>4.333081</td>\n",
       "      <td>4</td>\n",
       "    </tr>\n",
       "    <tr>\n",
       "      <th>101</th>\n",
       "      <td>NGC_6067</td>\n",
       "      <td>6.969370</td>\n",
       "      <td>2</td>\n",
       "    </tr>\n",
       "    <tr>\n",
       "      <th>103</th>\n",
       "      <td>Trumpler_9</td>\n",
       "      <td>1.127453</td>\n",
       "      <td>1</td>\n",
       "    </tr>\n",
       "    <tr>\n",
       "      <th>104</th>\n",
       "      <td>NGC_5168</td>\n",
       "      <td>3.040833</td>\n",
       "      <td>6</td>\n",
       "    </tr>\n",
       "    <tr>\n",
       "      <th>105</th>\n",
       "      <td>NGC_1444</td>\n",
       "      <td>0.266573</td>\n",
       "      <td>2</td>\n",
       "    </tr>\n",
       "    <tr>\n",
       "      <th>108</th>\n",
       "      <td>Waterloo_7</td>\n",
       "      <td>1.403830</td>\n",
       "      <td>1</td>\n",
       "    </tr>\n",
       "    <tr>\n",
       "      <th>109</th>\n",
       "      <td>NGC_7790</td>\n",
       "      <td>2.765111</td>\n",
       "      <td>1</td>\n",
       "    </tr>\n",
       "    <tr>\n",
       "      <th>110</th>\n",
       "      <td>IC_361</td>\n",
       "      <td>8.436041</td>\n",
       "      <td>2</td>\n",
       "    </tr>\n",
       "  </tbody>\n",
       "</table>\n",
       "</div>"
      ],
      "text/plain": [
       "           cluster     radius  NBSS\n",
       "0      Berkeley_17   6.435443    20\n",
       "1    Collinder_261   9.122234    53\n",
       "2         NGC_6791  13.838528    48\n",
       "3      Berkeley_39  14.069095    18\n",
       "4          NGC_188  10.032594    22\n",
       "8      Berkeley_32   7.392050    27\n",
       "9         NGC_1193   6.409669    12\n",
       "15      Melotte_66  17.856447    14\n",
       "18     Berkeley_99   9.295563     5\n",
       "21        NGC_6819  11.342448    15\n",
       "23     Berkeley_31   6.350729     6\n",
       "25        NGC_6939   8.016981     2\n",
       "32        NGC_2354   3.533052     5\n",
       "35   Collinder_110  25.361995     8\n",
       "39     Trumpler_20   4.491877    12\n",
       "40    Collinder_74   5.117085     5\n",
       "42          King_5   7.134608     4\n",
       "43        NGC_7044   4.581223     7\n",
       "44          IC_166   5.028481     9\n",
       "45        NGC_6005   6.172595     3\n",
       "48         King_11   4.429420    18\n",
       "49        NGC_2660   1.300225     2\n",
       "53        NGC_2158   6.867607    39\n",
       "57        NGC_6583   5.474704     1\n",
       "59        NGC_2506  36.416130    14\n",
       "60     Berkeley_81   4.766048     1\n",
       "64        NGC_6866   7.710639     1\n",
       "80        NGC_2818  10.494489     5\n",
       "86        NGC_2099   7.031925     1\n",
       "88        NGC_1907   3.290481     1\n",
       "90     Berkeley_58   7.915279     1\n",
       "92        NGC_2383   5.482672     1\n",
       "94        NGC_2437  24.386983     1\n",
       "97         NGC_559   3.048290     1\n",
       "98        NGC_6603   4.333081     4\n",
       "101       NGC_6067   6.969370     2\n",
       "103     Trumpler_9   1.127453     1\n",
       "104       NGC_5168   3.040833     6\n",
       "105       NGC_1444   0.266573     2\n",
       "108     Waterloo_7   1.403830     1\n",
       "109       NGC_7790   2.765111     1\n",
       "110         IC_361   8.436041     2"
      ]
     },
     "execution_count": 48,
     "metadata": {},
     "output_type": "execute_result"
    }
   ],
   "source": [
    "cl_radius[['cluster', 'radius', 'NBSS']]"
   ]
  },
  {
   "cell_type": "code",
   "execution_count": 49,
   "metadata": {},
   "outputs": [
    {
     "data": {
      "image/png": "[encoded data removed]",
      "text/plain": [
       "<Figure size 432x288 with 1 Axes>"
      ]
     },
     "metadata": {
      "needs_background": "light"
     },
     "output_type": "display_data"
    }
   ],
   "source": [
    "plt.hist(cl_radius['radius'], bins=50, density=False, facecolor='b', alpha=0.60)\n",
    "plt.xlabel('Radius in pc')\n",
    "plt.ylabel('Frequency')\n",
    "plt.title('Histogram of Radius in Open Clusters')\n",
    "plt.grid(True)\n",
    "plt.show()"
   ]
  },
  {
   "cell_type": "code",
   "execution_count": 50,
   "metadata": {},
   "outputs": [],
   "source": [
    "#cl_radius['cluster'].to_csv('df_info.csv')"
   ]
  },
  {
   "cell_type": "code",
   "execution_count": 51,
   "metadata": {},
   "outputs": [
    {
     "data": {
      "text/html": [
       "<div>\n",
       "<style scoped>\n",
       "    .dataframe tbody tr th:only-of-type {\n",
       "        vertical-align: middle;\n",
       "    }\n",
       "\n",
       "    .dataframe tbody tr th {\n",
       "        vertical-align: top;\n",
       "    }\n",
       "\n",
       "    .dataframe thead th {\n",
       "        text-align: right;\n",
       "    }\n",
       "</style>\n",
       "<table border=\"1\" class=\"dataframe\">\n",
       "  <thead>\n",
       "    <tr style=\"text-align: right;\">\n",
       "      <th></th>\n",
       "      <th>Unnamed: 0</th>\n",
       "      <th>Cluster</th>\n",
       "      <th>[Fe/H]</th>\n",
       "      <th>NBSS</th>\n",
       "    </tr>\n",
       "  </thead>\n",
       "  <tbody>\n",
       "    <tr>\n",
       "      <th>2</th>\n",
       "      <td>2</td>\n",
       "      <td>NGC_6791</td>\n",
       "      <td>0.23</td>\n",
       "      <td>48</td>\n",
       "    </tr>\n",
       "    <tr>\n",
       "      <th>3</th>\n",
       "      <td>3</td>\n",
       "      <td>Berkeley_39</td>\n",
       "      <td>-0.33</td>\n",
       "      <td>18</td>\n",
       "    </tr>\n",
       "    <tr>\n",
       "      <th>4</th>\n",
       "      <td>4</td>\n",
       "      <td>NGC_188</td>\n",
       "      <td>-0.04</td>\n",
       "      <td>22</td>\n",
       "    </tr>\n",
       "    <tr>\n",
       "      <th>8</th>\n",
       "      <td>8</td>\n",
       "      <td>Berkeley_32</td>\n",
       "      <td>-0.42</td>\n",
       "      <td>27</td>\n",
       "    </tr>\n",
       "    <tr>\n",
       "      <th>9</th>\n",
       "      <td>9</td>\n",
       "      <td>NGC_1193</td>\n",
       "      <td>-0.49</td>\n",
       "      <td>12</td>\n",
       "    </tr>\n",
       "    <tr>\n",
       "      <th>15</th>\n",
       "      <td>15</td>\n",
       "      <td>Melotte_66</td>\n",
       "      <td>-0.43</td>\n",
       "      <td>14</td>\n",
       "    </tr>\n",
       "    <tr>\n",
       "      <th>16</th>\n",
       "      <td>16</td>\n",
       "      <td>Berkeley_22</td>\n",
       "      <td>-0.42</td>\n",
       "      <td>3</td>\n",
       "    </tr>\n",
       "    <tr>\n",
       "      <th>17</th>\n",
       "      <td>17</td>\n",
       "      <td>NGC_7789</td>\n",
       "      <td>-0.15</td>\n",
       "      <td>16</td>\n",
       "    </tr>\n",
       "    <tr>\n",
       "      <th>19</th>\n",
       "      <td>19</td>\n",
       "      <td>NGC_2682</td>\n",
       "      <td>-0.04</td>\n",
       "      <td>11</td>\n",
       "    </tr>\n",
       "    <tr>\n",
       "      <th>22</th>\n",
       "      <td>22</td>\n",
       "      <td>Berkeley_21</td>\n",
       "      <td>-0.96</td>\n",
       "      <td>20</td>\n",
       "    </tr>\n",
       "    <tr>\n",
       "      <th>23</th>\n",
       "      <td>23</td>\n",
       "      <td>Berkeley_31</td>\n",
       "      <td>-0.60</td>\n",
       "      <td>6</td>\n",
       "    </tr>\n",
       "    <tr>\n",
       "      <th>24</th>\n",
       "      <td>24</td>\n",
       "      <td>NGC_2420</td>\n",
       "      <td>-0.38</td>\n",
       "      <td>3</td>\n",
       "    </tr>\n",
       "    <tr>\n",
       "      <th>26</th>\n",
       "      <td>26</td>\n",
       "      <td>NGC_2112</td>\n",
       "      <td>-1.30</td>\n",
       "      <td>4</td>\n",
       "    </tr>\n",
       "    <tr>\n",
       "      <th>29</th>\n",
       "      <td>29</td>\n",
       "      <td>IC_1311</td>\n",
       "      <td>-0.23</td>\n",
       "      <td>5</td>\n",
       "    </tr>\n",
       "    <tr>\n",
       "      <th>30</th>\n",
       "      <td>30</td>\n",
       "      <td>Berkeley_14</td>\n",
       "      <td>-1.20</td>\n",
       "      <td>9</td>\n",
       "    </tr>\n",
       "    <tr>\n",
       "      <th>32</th>\n",
       "      <td>32</td>\n",
       "      <td>NGC_2354</td>\n",
       "      <td>-0.30</td>\n",
       "      <td>5</td>\n",
       "    </tr>\n",
       "    <tr>\n",
       "      <th>34</th>\n",
       "      <td>34</td>\n",
       "      <td>NGC_2192</td>\n",
       "      <td>-0.22</td>\n",
       "      <td>1</td>\n",
       "    </tr>\n",
       "    <tr>\n",
       "      <th>37</th>\n",
       "      <td>37</td>\n",
       "      <td>NGC_2627</td>\n",
       "      <td>-0.08</td>\n",
       "      <td>3</td>\n",
       "    </tr>\n",
       "    <tr>\n",
       "      <th>40</th>\n",
       "      <td>40</td>\n",
       "      <td>Collinder_74</td>\n",
       "      <td>0.05</td>\n",
       "      <td>5</td>\n",
       "    </tr>\n",
       "    <tr>\n",
       "      <th>41</th>\n",
       "      <td>41</td>\n",
       "      <td>NGC_3960</td>\n",
       "      <td>-0.23</td>\n",
       "      <td>2</td>\n",
       "    </tr>\n",
       "    <tr>\n",
       "      <th>43</th>\n",
       "      <td>43</td>\n",
       "      <td>NGC_7044</td>\n",
       "      <td>0.01</td>\n",
       "      <td>7</td>\n",
       "    </tr>\n",
       "    <tr>\n",
       "      <th>46</th>\n",
       "      <td>46</td>\n",
       "      <td>NGC_3680</td>\n",
       "      <td>-0.02</td>\n",
       "      <td>1</td>\n",
       "    </tr>\n",
       "    <tr>\n",
       "      <th>47</th>\n",
       "      <td>47</td>\n",
       "      <td>IC_4651</td>\n",
       "      <td>0.07</td>\n",
       "      <td>5</td>\n",
       "    </tr>\n",
       "    <tr>\n",
       "      <th>48</th>\n",
       "      <td>48</td>\n",
       "      <td>King_11</td>\n",
       "      <td>-0.34</td>\n",
       "      <td>18</td>\n",
       "    </tr>\n",
       "    <tr>\n",
       "      <th>49</th>\n",
       "      <td>49</td>\n",
       "      <td>NGC_2660</td>\n",
       "      <td>-0.27</td>\n",
       "      <td>2</td>\n",
       "    </tr>\n",
       "    <tr>\n",
       "      <th>50</th>\n",
       "      <td>50</td>\n",
       "      <td>NGC_2204</td>\n",
       "      <td>-0.43</td>\n",
       "      <td>7</td>\n",
       "    </tr>\n",
       "    <tr>\n",
       "      <th>51</th>\n",
       "      <td>51</td>\n",
       "      <td>NGC_2243</td>\n",
       "      <td>-0.57</td>\n",
       "      <td>14</td>\n",
       "    </tr>\n",
       "    <tr>\n",
       "      <th>53</th>\n",
       "      <td>53</td>\n",
       "      <td>NGC_2158</td>\n",
       "      <td>-0.29</td>\n",
       "      <td>39</td>\n",
       "    </tr>\n",
       "    <tr>\n",
       "      <th>55</th>\n",
       "      <td>55</td>\n",
       "      <td>Tombaugh_2</td>\n",
       "      <td>-0.60</td>\n",
       "      <td>27</td>\n",
       "    </tr>\n",
       "    <tr>\n",
       "      <th>59</th>\n",
       "      <td>59</td>\n",
       "      <td>NGC_2506</td>\n",
       "      <td>-0.51</td>\n",
       "      <td>14</td>\n",
       "    </tr>\n",
       "    <tr>\n",
       "      <th>61</th>\n",
       "      <td>61</td>\n",
       "      <td>NGC_5822</td>\n",
       "      <td>-0.07</td>\n",
       "      <td>1</td>\n",
       "    </tr>\n",
       "    <tr>\n",
       "      <th>63</th>\n",
       "      <td>63</td>\n",
       "      <td>NGC_6134</td>\n",
       "      <td>0.20</td>\n",
       "      <td>4</td>\n",
       "    </tr>\n",
       "    <tr>\n",
       "      <th>68</th>\n",
       "      <td>68</td>\n",
       "      <td>NGC_2632</td>\n",
       "      <td>0.13</td>\n",
       "      <td>1</td>\n",
       "    </tr>\n",
       "    <tr>\n",
       "      <th>69</th>\n",
       "      <td>69</td>\n",
       "      <td>NGC_6940</td>\n",
       "      <td>0.01</td>\n",
       "      <td>2</td>\n",
       "    </tr>\n",
       "    <tr>\n",
       "      <th>72</th>\n",
       "      <td>72</td>\n",
       "      <td>King_7</td>\n",
       "      <td>0.03</td>\n",
       "      <td>7</td>\n",
       "    </tr>\n",
       "    <tr>\n",
       "      <th>73</th>\n",
       "      <td>73</td>\n",
       "      <td>NGC_2360</td>\n",
       "      <td>-0.15</td>\n",
       "      <td>1</td>\n",
       "    </tr>\n",
       "    <tr>\n",
       "      <th>75</th>\n",
       "      <td>75</td>\n",
       "      <td>NGC_2477</td>\n",
       "      <td>-0.03</td>\n",
       "      <td>5</td>\n",
       "    </tr>\n",
       "    <tr>\n",
       "      <th>77</th>\n",
       "      <td>77</td>\n",
       "      <td>NGC_1342</td>\n",
       "      <td>-0.20</td>\n",
       "      <td>1</td>\n",
       "    </tr>\n",
       "    <tr>\n",
       "      <th>78</th>\n",
       "      <td>78</td>\n",
       "      <td>NGC_2324</td>\n",
       "      <td>-0.38</td>\n",
       "      <td>1</td>\n",
       "    </tr>\n",
       "    <tr>\n",
       "      <th>79</th>\n",
       "      <td>79</td>\n",
       "      <td>NGC_6633</td>\n",
       "      <td>-0.05</td>\n",
       "      <td>1</td>\n",
       "    </tr>\n",
       "    <tr>\n",
       "      <th>80</th>\n",
       "      <td>80</td>\n",
       "      <td>NGC_2818</td>\n",
       "      <td>-0.30</td>\n",
       "      <td>5</td>\n",
       "    </tr>\n",
       "    <tr>\n",
       "      <th>81</th>\n",
       "      <td>81</td>\n",
       "      <td>NGC_1817</td>\n",
       "      <td>-0.31</td>\n",
       "      <td>3</td>\n",
       "    </tr>\n",
       "    <tr>\n",
       "      <th>83</th>\n",
       "      <td>83</td>\n",
       "      <td>NGC_2447</td>\n",
       "      <td>-0.10</td>\n",
       "      <td>1</td>\n",
       "    </tr>\n",
       "    <tr>\n",
       "      <th>84</th>\n",
       "      <td>84</td>\n",
       "      <td>Melotte_105</td>\n",
       "      <td>0.00</td>\n",
       "      <td>1</td>\n",
       "    </tr>\n",
       "    <tr>\n",
       "      <th>86</th>\n",
       "      <td>86</td>\n",
       "      <td>NGC_2099</td>\n",
       "      <td>0.14</td>\n",
       "      <td>1</td>\n",
       "    </tr>\n",
       "    <tr>\n",
       "      <th>90</th>\n",
       "      <td>90</td>\n",
       "      <td>Berkeley_58</td>\n",
       "      <td>0.09</td>\n",
       "      <td>1</td>\n",
       "    </tr>\n",
       "    <tr>\n",
       "      <th>91</th>\n",
       "      <td>91</td>\n",
       "      <td>NGC_6475</td>\n",
       "      <td>0.04</td>\n",
       "      <td>1</td>\n",
       "    </tr>\n",
       "    <tr>\n",
       "      <th>93</th>\n",
       "      <td>93</td>\n",
       "      <td>NGC_6705</td>\n",
       "      <td>-0.10</td>\n",
       "      <td>2</td>\n",
       "    </tr>\n",
       "    <tr>\n",
       "      <th>94</th>\n",
       "      <td>94</td>\n",
       "      <td>NGC_2437</td>\n",
       "      <td>-0.03</td>\n",
       "      <td>1</td>\n",
       "    </tr>\n",
       "    <tr>\n",
       "      <th>95</th>\n",
       "      <td>95</td>\n",
       "      <td>Melotte_71</td>\n",
       "      <td>-0.33</td>\n",
       "      <td>5</td>\n",
       "    </tr>\n",
       "    <tr>\n",
       "      <th>96</th>\n",
       "      <td>96</td>\n",
       "      <td>NGC_4815</td>\n",
       "      <td>-0.19</td>\n",
       "      <td>1</td>\n",
       "    </tr>\n",
       "    <tr>\n",
       "      <th>99</th>\n",
       "      <td>99</td>\n",
       "      <td>NGC_2168</td>\n",
       "      <td>-0.27</td>\n",
       "      <td>1</td>\n",
       "    </tr>\n",
       "    <tr>\n",
       "      <th>101</th>\n",
       "      <td>101</td>\n",
       "      <td>NGC_6067</td>\n",
       "      <td>0.08</td>\n",
       "      <td>2</td>\n",
       "    </tr>\n",
       "    <tr>\n",
       "      <th>102</th>\n",
       "      <td>102</td>\n",
       "      <td>NGC_2516</td>\n",
       "      <td>-0.07</td>\n",
       "      <td>1</td>\n",
       "    </tr>\n",
       "    <tr>\n",
       "      <th>104</th>\n",
       "      <td>104</td>\n",
       "      <td>NGC_5168</td>\n",
       "      <td>0.05</td>\n",
       "      <td>6</td>\n",
       "    </tr>\n",
       "    <tr>\n",
       "      <th>106</th>\n",
       "      <td>106</td>\n",
       "      <td>NGC_6025</td>\n",
       "      <td>0.19</td>\n",
       "      <td>1</td>\n",
       "    </tr>\n",
       "    <tr>\n",
       "      <th>107</th>\n",
       "      <td>107</td>\n",
       "      <td>NGC_2422</td>\n",
       "      <td>0.11</td>\n",
       "      <td>1</td>\n",
       "    </tr>\n",
       "    <tr>\n",
       "      <th>109</th>\n",
       "      <td>109</td>\n",
       "      <td>NGC_7790</td>\n",
       "      <td>-0.22</td>\n",
       "      <td>1</td>\n",
       "    </tr>\n",
       "  </tbody>\n",
       "</table>\n",
       "</div>"
      ],
      "text/plain": [
       "     Unnamed: 0       Cluster  [Fe/H]  NBSS\n",
       "2             2      NGC_6791    0.23    48\n",
       "3             3   Berkeley_39   -0.33    18\n",
       "4             4       NGC_188   -0.04    22\n",
       "8             8   Berkeley_32   -0.42    27\n",
       "9             9      NGC_1193   -0.49    12\n",
       "15           15    Melotte_66   -0.43    14\n",
       "16           16   Berkeley_22   -0.42     3\n",
       "17           17      NGC_7789   -0.15    16\n",
       "19           19      NGC_2682   -0.04    11\n",
       "22           22   Berkeley_21   -0.96    20\n",
       "23           23   Berkeley_31   -0.60     6\n",
       "24           24      NGC_2420   -0.38     3\n",
       "26           26      NGC_2112   -1.30     4\n",
       "29           29       IC_1311   -0.23     5\n",
       "30           30   Berkeley_14   -1.20     9\n",
       "32           32      NGC_2354   -0.30     5\n",
       "34           34      NGC_2192   -0.22     1\n",
       "37           37      NGC_2627   -0.08     3\n",
       "40           40  Collinder_74    0.05     5\n",
       "41           41      NGC_3960   -0.23     2\n",
       "43           43      NGC_7044    0.01     7\n",
       "46           46      NGC_3680   -0.02     1\n",
       "47           47       IC_4651    0.07     5\n",
       "48           48       King_11   -0.34    18\n",
       "49           49      NGC_2660   -0.27     2\n",
       "50           50      NGC_2204   -0.43     7\n",
       "51           51      NGC_2243   -0.57    14\n",
       "53           53      NGC_2158   -0.29    39\n",
       "55           55    Tombaugh_2   -0.60    27\n",
       "59           59      NGC_2506   -0.51    14\n",
       "61           61      NGC_5822   -0.07     1\n",
       "63           63      NGC_6134    0.20     4\n",
       "68           68      NGC_2632    0.13     1\n",
       "69           69      NGC_6940    0.01     2\n",
       "72           72        King_7    0.03     7\n",
       "73           73      NGC_2360   -0.15     1\n",
       "75           75      NGC_2477   -0.03     5\n",
       "77           77      NGC_1342   -0.20     1\n",
       "78           78      NGC_2324   -0.38     1\n",
       "79           79      NGC_6633   -0.05     1\n",
       "80           80      NGC_2818   -0.30     5\n",
       "81           81      NGC_1817   -0.31     3\n",
       "83           83      NGC_2447   -0.10     1\n",
       "84           84   Melotte_105    0.00     1\n",
       "86           86      NGC_2099    0.14     1\n",
       "90           90   Berkeley_58    0.09     1\n",
       "91           91      NGC_6475    0.04     1\n",
       "93           93      NGC_6705   -0.10     2\n",
       "94           94      NGC_2437   -0.03     1\n",
       "95           95    Melotte_71   -0.33     5\n",
       "96           96      NGC_4815   -0.19     1\n",
       "99           99      NGC_2168   -0.27     1\n",
       "101         101      NGC_6067    0.08     2\n",
       "102         102      NGC_2516   -0.07     1\n",
       "104         104      NGC_5168    0.05     6\n",
       "106         106      NGC_6025    0.19     1\n",
       "107         107      NGC_2422    0.11     1\n",
       "109         109      NGC_7790   -0.22     1"
      ]
     },
     "execution_count": 51,
     "metadata": {},
     "output_type": "execute_result"
    }
   ],
   "source": [
    "metal_df = pd.read_csv('names_metal_full.csv')\n",
    "metal_df['NBSS'] = vel_df['NBSS']\n",
    "\n",
    "metal_df.dropna()"
   ]
  },
  {
   "cell_type": "code",
   "execution_count": 52,
   "metadata": {},
   "outputs": [
    {
     "data": {
      "image/png": "[encoded data removed]",
      "text/plain": [
       "<Figure size 432x288 with 1 Axes>"
      ]
     },
     "metadata": {
      "needs_background": "light"
     },
     "output_type": "display_data"
    },
    {
     "data": {
      "text/plain": [
       "-0.2106896551724138"
      ]
     },
     "execution_count": 52,
     "metadata": {},
     "output_type": "execute_result"
    }
   ],
   "source": [
    "fig = plt.figure()\n",
    "plt.scatter(metal_df['[Fe/H]'], metal_df['NBSS'], c=\"blue\", alpha=0.9, marker='*',label=\"Amount of Stragglers\")\n",
    "plt.xlabel(\"Metalicity\")\n",
    "plt.ylabel(\"Number of Blue Stragglers\")\n",
    "plt.legend(loc='upper left')\n",
    "plt.title('Number of Blue Stragglers by Metalicity')\n",
    "plt.show()\n",
    "\n",
    "metal_df['[Fe/H]'].mean()"
   ]
  },
  {
   "cell_type": "code",
   "execution_count": 57,
   "metadata": {},
   "outputs": [
    {
     "data": {
      "text/plain": [
       "1.1889182878280775"
      ]
     },
     "execution_count": 57,
     "metadata": {},
     "output_type": "execute_result"
    }
   ],
   "source": [
    "#import scipy\n",
    "\n",
    "scipy.spatial.distance.correlation(hi['[Fe/H]'].values, hi['NBSS'].values)"
   ]
  },
  {
   "cell_type": "code",
   "execution_count": 60,
   "metadata": {},
   "outputs": [],
   "source": [
    "new = metal_df[['[Fe/H]', 'NBSS']]\n",
    "hi = new.dropna()\n"
   ]
  },
  {
   "cell_type": "code",
   "execution_count": 61,
   "metadata": {},
   "outputs": [
    {
     "data": {
      "image/png": "[encoded data removed]",
      "text/plain": [
       "<Figure size 432x288 with 1 Axes>"
      ]
     },
     "metadata": {
      "needs_background": "light"
     },
     "output_type": "display_data"
    }
   ],
   "source": [
    "plt.hist(metal_df['[Fe/H]'], bins=10, density=False, facecolor='b', alpha=0.60)\n",
    "plt.xlabel('Metallicity in [Fe/H]')\n",
    "plt.ylabel('Frequency')\n",
    "plt.title('Histogram of Metallicity in Open Clusters')\n",
    "plt.grid(True)\n",
    "plt.show()"
   ]
  }
 ],
 "metadata": {
  "kernelspec": {
   "display_name": "Python 3",
   "language": "python",
   "name": "python3"
  },
  "language_info": {
   "codemirror_mode": {
    "name": "ipython",
    "version": 3
   },
   "file_extension": ".py",
   "mimetype": "text/x-python",
   "name": "python",
   "nbconvert_exporter": "python",
   "pygments_lexer": "ipython3",
   "version": "3.8.5"
  }
 },
 "nbformat": 4,
 "nbformat_minor": 4
}
